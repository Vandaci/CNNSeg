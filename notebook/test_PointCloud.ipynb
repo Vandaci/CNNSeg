{
 "cells": [
  {
   "cell_type": "code",
   "execution_count": 2,
   "metadata": {},
   "outputs": [],
   "source": [
    "import sys \n",
    "sys.path.append('../src')\n",
    "import pointcloud as pc"
   ]
  },
  {
   "cell_type": "code",
   "execution_count": 3,
   "metadata": {},
   "outputs": [
    {
     "data": {
      "text/plain": [
       "array([[ 3.1646941e+00,  1.7702669e+01, -1.7726824e+00,  1.8400000e+02],\n",
       "       [ 2.6052592e+00,  1.7908875e+01, -1.6880105e+00,  1.0700000e+02],\n",
       "       [ 1.7338133e-01,  3.3471485e+01,  1.0628858e+00,  1.3800000e+02],\n",
       "       ...,\n",
       "       [ 1.0091059e+00,  1.5525759e+01, -2.0207906e+00,  1.1000000e+02],\n",
       "       [ 1.5039902e+00,  9.6850491e+00, -1.8273896e+00,  1.0500000e+02],\n",
       "       [ 1.0750959e+00,  1.1069170e+01, -1.9850459e+00,  1.0400000e+02]],\n",
       "      dtype=float32)"
      ]
     },
     "execution_count": 3,
     "metadata": {},
     "output_type": "execute_result"
    }
   ],
   "source": [
    "tst_pc=pc.PointCloud()\n",
    "tst_pc.ReadFromBinFile('../data/test.pcd')"
   ]
  },
  {
   "cell_type": "code",
   "execution_count": 4,
   "metadata": {},
   "outputs": [
    {
     "data": {
      "text/plain": [
       "array([3.164694  , 2.6052592 , 0.17338133, ..., 1.0091059 , 1.5039902 ,\n",
       "       1.0750959 ], dtype=float32)"
      ]
     },
     "execution_count": 4,
     "metadata": {},
     "output_type": "execute_result"
    }
   ],
   "source": [
    "tst_pc.x"
   ]
  }
 ],
 "metadata": {
  "kernelspec": {
   "display_name": "caffe",
   "language": "python",
   "name": "caffe"
  },
  "language_info": {
   "codemirror_mode": {
    "name": "ipython",
    "version": 3
   },
   "file_extension": ".py",
   "mimetype": "text/x-python",
   "name": "python",
   "nbconvert_exporter": "python",
   "pygments_lexer": "ipython3",
   "version": "3.5.6"
  }
 },
 "nbformat": 4,
 "nbformat_minor": 2
}
